{
 "cells": [
  {
   "cell_type": "code",
   "execution_count": null,
   "id": "4edc1ba9",
   "metadata": {
    "vscode": {
     "languageId": "plaintext"
    }
   },
   "outputs": [],
   "source": [
    "import pandas as pd\n",
    "import matplotlib.pyplot as plt\n",
    "import seaborn as sns\n",
    "\n",
    "df = pd.read_csv(\"../data/expected_ctc.csv\")\n",
    "print(\"Dataset shape:\", df.shape)\n",
    "df.head()\n",
    "\n",
    "df.isnull().sum()\n",
    "\n",
    "num_cols = df.select_dtypes(include=[\"int64\", \"float64\"]).columns\n",
    "for col in num_cols:\n",
    "    df[col] = df[col].fillna(df[col].median())\n",
    "\n",
    "cat_cols = df.select_dtypes(include=[\"object\"]).columns\n",
    "for col in cat_cols:\n",
    "    df[col] = df[col].fillna(df[col].mode()[0])\n",
    "\n",
    "print(\" Missing values handled.\")\n",
    "\n",
    "plt.figure(figsize=(10,5))\n",
    "sns.boxplot(df[\"Expected_CTC\"])\n",
    "plt.title(\"Outlier Detection - Expected CTC\")\n",
    "plt.show()\n",
    "\n",
    "\n",
    "df.to_csv(\"../data/cleaned_ctc.csv\", index=False)\n",
    "print(\" Cleaned dataset saved.\")\n"
   ]
  }
 ],
 "metadata": {
  "language_info": {
   "name": "python"
  }
 },
 "nbformat": 4,
 "nbformat_minor": 5
}
