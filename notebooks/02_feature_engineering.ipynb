{
 "cells": [
  {
   "cell_type": "code",
   "execution_count": null,
   "id": "b611babe",
   "metadata": {
    "vscode": {
     "languageId": "plaintext"
    }
   },
   "outputs": [],
   "source": [
    "import pandas as pd\n",
    "import matplotlib.pyplot as plt\n",
    "import seaborn as sns\n",
    "\n",
    "df = pd.read_csv(\"../data/cleaned_ctc.csv\")\n",
    "\n",
    "df_encoded = pd.get_dummies(df, drop_first=True)\n",
    "\n",
    "print(\" Encoding complete. Encoded shape:\", df_encoded.shape)\n",
    "\n",
    "corr = df_encoded.corr(numeric_only=True)\n",
    "plt.figure(figsize=(12,8))\n",
    "sns.heatmap(corr, cmap=\"coolwarm\", annot=False)\n",
    "plt.title(\"Correlation Heatmap\")\n",
    "plt.show()\n",
    "\n",
    "ctc_corr = corr[\"Expected_CTC\"].sort_values(ascending=False)\n",
    "print(\"Correlation with Expected CTC:\\n\", ctc_corr)\n",
    "\n",
    "df_encoded.to_csv(\"../data/processed_ctc.csv\", index=False)\n",
    "print(\" Processed dataset saved.\")\n"
   ]
  }
 ],
 "metadata": {
  "language_info": {
   "name": "python"
  }
 },
 "nbformat": 4,
 "nbformat_minor": 5
}
