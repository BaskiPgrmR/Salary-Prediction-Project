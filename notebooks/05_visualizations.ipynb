{
 "cells": [
  {
   "cell_type": "code",
   "execution_count": null,
   "id": "1ceaa792",
   "metadata": {
    "vscode": {
     "languageId": "plaintext"
    }
   },
   "outputs": [],
   "source": [
    "import pandas as pd\n",
    "import matplotlib.pyplot as plt\n",
    "import seaborn as sns\n",
    "\n",
    "df = pd.read_csv(\"../data/cleaned_ctc.csv\")\n",
    "\n",
    "sns.set_theme(style=\"whitegrid\", font=\"monospace\")\n",
    "\n",
    "plt.figure(figsize=(10,6))\n",
    "sns.histplot(df[\"Expected_CTC\"], bins=30, kde=True, color=\"skyblue\")\n",
    "plt.title(\"Expected Salary Distribution\")\n",
    "plt.xlabel(\"Expected CTC\")\n",
    "plt.ylabel(\"Count\")\n",
    "plt.show()\n",
    "\n",
    "plt.figure(figsize=(12,6))\n",
    "sns.barplot(x=\"Department\", y=\"Expected_CTC\", data=df, palette=\"coolwarm\")\n",
    "plt.title(\"Average Expected Salary by Department\")\n",
    "plt.xticks(rotation=45)\n",
    "plt.show()\n",
    "\n",
    "plt.figure(figsize=(12,6))\n",
    "sns.boxplot(x=\"Education\", y=\"Expected_CTC\", data=df, palette=\"Spectral\")\n",
    "plt.title(\"Expected Salary by Education Level\")\n",
    "plt.xticks(rotation=45)\n",
    "plt.show()\n"
   ]
  }
 ],
 "metadata": {
  "language_info": {
   "name": "python"
  }
 },
 "nbformat": 4,
 "nbformat_minor": 5
}
