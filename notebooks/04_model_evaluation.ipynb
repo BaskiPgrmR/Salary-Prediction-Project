{
 "cells": [
  {
   "cell_type": "code",
   "execution_count": null,
   "id": "b95b4770",
   "metadata": {
    "vscode": {
     "languageId": "plaintext"
    }
   },
   "outputs": [],
   "source": [
    "import pandas as pd\n",
    "import matplotlib.pyplot as plt\n",
    "from sklearn.metrics import mean_absolute_error, mean_squared_error, r2_score\n",
    "import joblib\n",
    "\n",
    "df = pd.read_csv(\"../data/processed_ctc.csv\")\n",
    "\n",
    "X = df.drop(\"Expected_CTC\", axis=1)\n",
    "y = df[\"Expected_CTC\"]\n",
    "\n",
    "lr = joblib.load(\"../models/linear_regression_model.joblib\")\n",
    "xgb_model = joblib.load(\"../models/xgb_model.joblib\")\n",
    "\n",
    "y_pred_lr = lr.predict(X)\n",
    "y_pred_xgb = xgb_model.predict(X)\n",
    "\n",
    "results = {\n",
    "    \"Model\": [\"Linear Regression\", \"XGBoost\"],\n",
    "    \"R2\": [\n",
    "        r2_score(y, y_pred_lr),\n",
    "        r2_score(y, y_pred_xgb)\n",
    "    ],\n",
    "    \"MSE\": [\n",
    "        mean_squared_error(y, y_pred_lr),\n",
    "        mean_squared_error(y, y_pred_xgb)\n",
    "    ],\n",
    "    \"MAE\": [\n",
    "        mean_absolute_error(y, y_pred_lr),\n",
    "        mean_absolute_error(y, y_pred_xgb)\n",
    "    ]\n",
    "}\n",
    "\n",
    "results_df = pd.DataFrame(results)\n",
    "print(results_df)\n",
    "\n",
    "results_df.set_index(\"Model\")[[\"MSE\", \"MAE\"]].plot(kind=\"bar\", figsize=(8,5))\n",
    "plt.title(\"Model Performance Comparison\")\n",
    "plt.ylabel(\"Error Value\")\n",
    "plt.show()\n"
   ]
  }
 ],
 "metadata": {
  "language_info": {
   "name": "python"
  }
 },
 "nbformat": 4,
 "nbformat_minor": 5
}
