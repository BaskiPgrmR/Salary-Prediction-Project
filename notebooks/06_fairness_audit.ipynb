{
 "cells": [
  {
   "cell_type": "code",
   "execution_count": null,
   "id": "2c91696c",
   "metadata": {
    "vscode": {
     "languageId": "plaintext"
    }
   },
   "outputs": [],
   "source": [
    "import pandas as pd\n",
    "from scripts.fairness_report import compute_group_metrics, fairness_summary\n",
    "\n",
    "df = pd.read_csv(\"../outputs/reports/df_banded.csv\")\n",
    "\n",
    "groups = compute_group_metrics(df, \"Expected_CTC\", \"offered_salary\",\n",
    "                               [\"Department\", \"Role\", \"Designation\", \"Education\"])\n",
    "display(groups.head())\n",
    "\n",
    "overall_mae = (df[\"Expected_CTC\"] - df[\"offered_salary\"]).abs().mean()\n",
    "summary = fairness_summary(groups, overall_mae)\n",
    "print(summary)\n"
   ]
  }
 ],
 "metadata": {
  "language_info": {
   "name": "python"
  }
 },
 "nbformat": 4,
 "nbformat_minor": 5
}
